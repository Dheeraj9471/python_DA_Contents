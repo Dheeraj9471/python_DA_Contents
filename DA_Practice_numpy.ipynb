{
 "cells": [
  {
   "cell_type": "markdown",
   "id": "ce144560",
   "metadata": {},
   "source": [
    "# NUMPY\n",
    "# ZEROS, ONES\n",
    "# ARANGE\n",
    "# EMPTY\n",
    "# IDENTITY\n",
    "# LINESPACE\n",
    "# AXIS=0,AXIS=1\n",
    "# SUM FUNCTION WITH AXIS\n",
    "# TRANSPOSE MATRIX\n",
    "# MIN & MAX IN ARRAY --> ARGMAX,ARGMIN,ARGSORT,(WITH AXIS ALSO)\n",
    "# MATRIX OPERATION\n",
    "# NP.SQRT,SUM,MAX,MIN\n",
    "# FINDING THE DATA USING WHERE\n"
   ]
  },
  {
   "cell_type": "code",
   "execution_count": null,
   "id": "77565b18",
   "metadata": {},
   "outputs": [],
   "source": [
    "import numpy as np\n"
   ]
  },
  {
   "cell_type": "code",
   "execution_count": 17,
   "id": "5ab70a59",
   "metadata": {},
   "outputs": [],
   "source": [
    "arr=np.array([2,3,4])"
   ]
  },
  {
   "cell_type": "code",
   "execution_count": 18,
   "id": "98d645d1",
   "metadata": {},
   "outputs": [
    {
     "data": {
      "text/plain": [
       "array([2, 3, 4])"
      ]
     },
     "execution_count": 18,
     "metadata": {},
     "output_type": "execute_result"
    }
   ],
   "source": [
    "arr"
   ]
  },
  {
   "cell_type": "markdown",
   "id": "95e139fe",
   "metadata": {},
   "source": [
    "# 1-D"
   ]
  },
  {
   "cell_type": "code",
   "execution_count": 23,
   "id": "2f767cf7",
   "metadata": {},
   "outputs": [
    {
     "name": "stdout",
     "output_type": "stream",
     "text": [
      "[1]\n",
      "<class 'numpy.ndarray'>\n",
      "1\n"
     ]
    }
   ],
   "source": [
    "arr=np.array([1,])\n",
    "print(arr)\n",
    "print(type(arr))\n",
    "print(arr.ndim)"
   ]
  },
  {
   "cell_type": "markdown",
   "id": "4dbf6332",
   "metadata": {},
   "source": [
    "# 2-D"
   ]
  },
  {
   "cell_type": "code",
   "execution_count": 26,
   "id": "6dd080ba",
   "metadata": {},
   "outputs": [
    {
     "name": "stdout",
     "output_type": "stream",
     "text": [
      "[[2 3 4]\n",
      " [4 5 6]]\n",
      "<class 'numpy.ndarray'>\n",
      "2\n"
     ]
    }
   ],
   "source": [
    "arr2=np.array([[2,3,4],[4,5,6]])\n",
    "print(arr2)\n",
    "print(type(arr2))\n",
    "print(arr2.ndim)"
   ]
  },
  {
   "cell_type": "code",
   "execution_count": 27,
   "id": "e4017045",
   "metadata": {},
   "outputs": [
    {
     "name": "stdout",
     "output_type": "stream",
     "text": [
      "[list([2, 3, 4]) list([4, 5, 6, 7])]\n",
      "<class 'numpy.ndarray'>\n",
      "1\n"
     ]
    },
    {
     "name": "stderr",
     "output_type": "stream",
     "text": [
      "<ipython-input-27-f6cc066791af>:1: VisibleDeprecationWarning: Creating an ndarray from ragged nested sequences (which is a list-or-tuple of lists-or-tuples-or ndarrays with different lengths or shapes) is deprecated. If you meant to do this, you must specify 'dtype=object' when creating the ndarray.\n",
      "  arr2=np.array([[2,3,4],[4,5,6,7]])\n"
     ]
    }
   ],
   "source": [
    "arr2=np.array([[2,3,4],[4,5,6,7]])\n",
    "print(arr2)\n",
    "print(type(arr2))\n",
    "print(arr2.ndim)"
   ]
  },
  {
   "cell_type": "markdown",
   "id": "5ce481dd",
   "metadata": {},
   "source": [
    "# 3-D"
   ]
  },
  {
   "cell_type": "code",
   "execution_count": 30,
   "id": "9b4fd534",
   "metadata": {},
   "outputs": [
    {
     "name": "stdout",
     "output_type": "stream",
     "text": [
      "[[[2 3 4]\n",
      "  [4 5 6]\n",
      "  [6 7 8]]]\n",
      "<class 'numpy.ndarray'>\n",
      "3\n"
     ]
    }
   ],
   "source": [
    "x= np.array([[[2,3,4],[4,5,6],[6,7,8]]])\n",
    "print(x)\n",
    "print(type(x))\n",
    "print(x.ndim)"
   ]
  },
  {
   "cell_type": "code",
   "execution_count": 34,
   "id": "51e36fed",
   "metadata": {},
   "outputs": [
    {
     "name": "stdout",
     "output_type": "stream",
     "text": [
      "[[[3 4 5]]]\n",
      "<class 'numpy.ndarray'>\n",
      "3\n"
     ]
    }
   ],
   "source": [
    "Q=np.array([[[3,4,5]]])\n",
    "print(Q)\n",
    "print(type(Q))\n",
    "print(Q.ndim)"
   ]
  },
  {
   "cell_type": "markdown",
   "id": "d03232df",
   "metadata": {},
   "source": [
    "# Zeros"
   ]
  },
  {
   "cell_type": "code",
   "execution_count": 35,
   "id": "e6a494d2",
   "metadata": {},
   "outputs": [
    {
     "name": "stdout",
     "output_type": "stream",
     "text": [
      "[0. 0. 0. 0. 0. 0. 0. 0. 0. 0. 0. 0. 0. 0. 0. 0. 0. 0. 0. 0.]\n"
     ]
    }
   ],
   "source": [
    "print(np.zeros(20))"
   ]
  },
  {
   "cell_type": "code",
   "execution_count": 37,
   "id": "67c09dfa",
   "metadata": {},
   "outputs": [
    {
     "name": "stdout",
     "output_type": "stream",
     "text": [
      "[[0. 0. 0. 0.]\n",
      " [0. 0. 0. 0.]]\n"
     ]
    }
   ],
   "source": [
    "print(np.zeros((2,4)))"
   ]
  },
  {
   "cell_type": "code",
   "execution_count": 38,
   "id": "82a286e1",
   "metadata": {},
   "outputs": [
    {
     "name": "stdout",
     "output_type": "stream",
     "text": [
      "[[[0. 0. 0. 0. 0.]\n",
      "  [0. 0. 0. 0. 0.]\n",
      "  [0. 0. 0. 0. 0.]\n",
      "  [0. 0. 0. 0. 0.]]\n",
      "\n",
      " [[0. 0. 0. 0. 0.]\n",
      "  [0. 0. 0. 0. 0.]\n",
      "  [0. 0. 0. 0. 0.]\n",
      "  [0. 0. 0. 0. 0.]]]\n"
     ]
    }
   ],
   "source": [
    "print(np.zeros((2,4,5)))"
   ]
  },
  {
   "cell_type": "markdown",
   "id": "966a7c6a",
   "metadata": {},
   "source": [
    "# ONES"
   ]
  },
  {
   "cell_type": "code",
   "execution_count": 39,
   "id": "62715876",
   "metadata": {},
   "outputs": [
    {
     "name": "stdout",
     "output_type": "stream",
     "text": [
      "[1. 1.]\n"
     ]
    }
   ],
   "source": [
    "print(np.ones(2))"
   ]
  },
  {
   "cell_type": "code",
   "execution_count": 40,
   "id": "5dd5e73b",
   "metadata": {},
   "outputs": [
    {
     "name": "stdout",
     "output_type": "stream",
     "text": [
      "[[[1. 1. 1. 1. 1. 1.]\n",
      "  [1. 1. 1. 1. 1. 1.]\n",
      "  [1. 1. 1. 1. 1. 1.]\n",
      "  [1. 1. 1. 1. 1. 1.]\n",
      "  [1. 1. 1. 1. 1. 1.]]\n",
      "\n",
      " [[1. 1. 1. 1. 1. 1.]\n",
      "  [1. 1. 1. 1. 1. 1.]\n",
      "  [1. 1. 1. 1. 1. 1.]\n",
      "  [1. 1. 1. 1. 1. 1.]\n",
      "  [1. 1. 1. 1. 1. 1.]]]\n"
     ]
    }
   ],
   "source": [
    "print(np.ones((2,5,6)))"
   ]
  },
  {
   "cell_type": "code",
   "execution_count": 41,
   "id": "253fe179",
   "metadata": {},
   "outputs": [
    {
     "name": "stdout",
     "output_type": "stream",
     "text": [
      "[[1. 1. 1. 1.]\n",
      " [1. 1. 1. 1.]]\n"
     ]
    }
   ],
   "source": [
    "print(np.ones((2,4)))"
   ]
  },
  {
   "cell_type": "markdown",
   "id": "a984b24d",
   "metadata": {},
   "source": [
    "# Indetity"
   ]
  },
  {
   "cell_type": "code",
   "execution_count": 42,
   "id": "fe0b3c83",
   "metadata": {},
   "outputs": [
    {
     "name": "stdout",
     "output_type": "stream",
     "text": [
      "[[1. 0.]\n",
      " [0. 1.]]\n"
     ]
    }
   ],
   "source": [
    "print(np.identity(2))"
   ]
  },
  {
   "cell_type": "code",
   "execution_count": 43,
   "id": "fde5ebe7",
   "metadata": {},
   "outputs": [
    {
     "name": "stdout",
     "output_type": "stream",
     "text": [
      "[[1. 0. 0.]\n",
      " [0. 1. 0.]\n",
      " [0. 0. 1.]]\n"
     ]
    }
   ],
   "source": [
    "print(np.identity(3))"
   ]
  },
  {
   "cell_type": "markdown",
   "id": "eb42f5d3",
   "metadata": {},
   "source": [
    "# ARANGE"
   ]
  },
  {
   "cell_type": "code",
   "execution_count": 44,
   "id": "85b9e9f7",
   "metadata": {},
   "outputs": [
    {
     "name": "stdout",
     "output_type": "stream",
     "text": [
      "[0 1 2 3]\n"
     ]
    }
   ],
   "source": [
    "print(np.arange(4))"
   ]
  },
  {
   "cell_type": "code",
   "execution_count": 45,
   "id": "255e23af",
   "metadata": {},
   "outputs": [
    {
     "name": "stdout",
     "output_type": "stream",
     "text": [
      "[4 5 6 7 8 9]\n"
     ]
    }
   ],
   "source": [
    "print(np.arange(4,10))"
   ]
  },
  {
   "cell_type": "code",
   "execution_count": 46,
   "id": "fccfe163",
   "metadata": {},
   "outputs": [
    {
     "name": "stdout",
     "output_type": "stream",
     "text": [
      "[4 6 8]\n"
     ]
    }
   ],
   "source": [
    "print(np.arange(4,10,2))"
   ]
  },
  {
   "cell_type": "code",
   "execution_count": 48,
   "id": "0740675e",
   "metadata": {},
   "outputs": [
    {
     "name": "stdout",
     "output_type": "stream",
     "text": [
      "[10  8  6]\n"
     ]
    }
   ],
   "source": [
    "print(np.arange(10,4,-2))"
   ]
  },
  {
   "cell_type": "code",
   "execution_count": 49,
   "id": "990e8363",
   "metadata": {},
   "outputs": [
    {
     "name": "stdout",
     "output_type": "stream",
     "text": [
      "[]\n"
     ]
    }
   ],
   "source": [
    "print(np.arange(10,4))"
   ]
  },
  {
   "cell_type": "code",
   "execution_count": 50,
   "id": "61495dda",
   "metadata": {},
   "outputs": [
    {
     "name": "stdout",
     "output_type": "stream",
     "text": [
      "[]\n"
     ]
    }
   ],
   "source": [
    "print(np.arange(10,4,2))"
   ]
  },
  {
   "cell_type": "markdown",
   "id": "70516cc9",
   "metadata": {},
   "source": [
    "# EMPTY"
   ]
  },
  {
   "cell_type": "code",
   "execution_count": 51,
   "id": "cf3e702b",
   "metadata": {},
   "outputs": [
    {
     "name": "stdout",
     "output_type": "stream",
     "text": [
      "[0. 0. 0. 0. 0. 0. 0. 0. 0. 0. 0. 0. 0. 0. 0. 0. 0. 0. 0. 0.]\n"
     ]
    }
   ],
   "source": [
    "print(np.empty(20))"
   ]
  },
  {
   "cell_type": "code",
   "execution_count": 52,
   "id": "18098dc0",
   "metadata": {},
   "outputs": [
    {
     "name": "stdout",
     "output_type": "stream",
     "text": [
      "[[8.43965981e-312 2.07507571e-322]\n",
      " [0.00000000e+000 0.00000000e+000]\n",
      " [1.44635573e-307 1.16095484e-028]\n",
      " [1.07441485e+160 8.93176403e+271]\n",
      " [4.98131536e+151 9.69385786e-067]]\n"
     ]
    }
   ],
   "source": [
    "print(np.empty((5,2)))"
   ]
  },
  {
   "cell_type": "markdown",
   "id": "9da2460f",
   "metadata": {},
   "source": [
    "# LINSPACE"
   ]
  },
  {
   "cell_type": "code",
   "execution_count": 53,
   "id": "023e2b41",
   "metadata": {},
   "outputs": [
    {
     "name": "stdout",
     "output_type": "stream",
     "text": [
      "[2.         2.66666667 3.33333333 4.         4.66666667 5.33333333\n",
      " 6.        ]\n"
     ]
    }
   ],
   "source": [
    "print(np.linspace(2,6,7))"
   ]
  },
  {
   "cell_type": "markdown",
   "id": "ec4ae7cc",
   "metadata": {},
   "source": [
    "# AXIS"
   ]
  },
  {
   "cell_type": "code",
   "execution_count": 54,
   "id": "16dae182",
   "metadata": {},
   "outputs": [
    {
     "name": "stdout",
     "output_type": "stream",
     "text": [
      "[[[3 4 5]\n",
      "  [5 6 7]\n",
      "  [7 8 9]]]\n"
     ]
    }
   ],
   "source": [
    "w= np.array([[[3,4,5],[5,6,7],[7,8,9]]])\n",
    "print(w)"
   ]
  },
  {
   "cell_type": "code",
   "execution_count": 55,
   "id": "3ff8be49",
   "metadata": {},
   "outputs": [
    {
     "data": {
      "text/plain": [
       "<function ndarray.sum>"
      ]
     },
     "execution_count": 55,
     "metadata": {},
     "output_type": "execute_result"
    }
   ],
   "source": [
    "w.sum"
   ]
  },
  {
   "cell_type": "code",
   "execution_count": 56,
   "id": "eec99a03",
   "metadata": {},
   "outputs": [
    {
     "data": {
      "text/plain": [
       "54"
      ]
     },
     "execution_count": 56,
     "metadata": {},
     "output_type": "execute_result"
    }
   ],
   "source": [
    "w.sum()"
   ]
  },
  {
   "cell_type": "code",
   "execution_count": 57,
   "id": "131e2501",
   "metadata": {},
   "outputs": [
    {
     "data": {
      "text/plain": [
       "array([[3, 4, 5],\n",
       "       [5, 6, 7],\n",
       "       [7, 8, 9]])"
      ]
     },
     "execution_count": 57,
     "metadata": {},
     "output_type": "execute_result"
    }
   ],
   "source": [
    "w.sum(axis=0)"
   ]
  },
  {
   "cell_type": "code",
   "execution_count": 58,
   "id": "b7d67c73",
   "metadata": {},
   "outputs": [
    {
     "data": {
      "text/plain": [
       "array([[15, 18, 21]])"
      ]
     },
     "execution_count": 58,
     "metadata": {},
     "output_type": "execute_result"
    }
   ],
   "source": [
    "w.sum(axis=1)"
   ]
  },
  {
   "cell_type": "markdown",
   "id": "e7440141",
   "metadata": {},
   "source": [
    "# Transpose"
   ]
  },
  {
   "cell_type": "code",
   "execution_count": 61,
   "id": "8d541308",
   "metadata": {},
   "outputs": [
    {
     "data": {
      "text/plain": [
       "array([[[3],\n",
       "        [5],\n",
       "        [7]],\n",
       "\n",
       "       [[4],\n",
       "        [6],\n",
       "        [8]],\n",
       "\n",
       "       [[5],\n",
       "        [7],\n",
       "        [9]]])"
      ]
     },
     "execution_count": 61,
     "metadata": {},
     "output_type": "execute_result"
    }
   ],
   "source": [
    "w.T"
   ]
  },
  {
   "cell_type": "code",
   "execution_count": null,
   "id": "74eeb6c6",
   "metadata": {},
   "outputs": [],
   "source": []
  },
  {
   "cell_type": "code",
   "execution_count": null,
   "id": "6cfc395d",
   "metadata": {},
   "outputs": [],
   "source": []
  }
 ],
 "metadata": {
  "kernelspec": {
   "display_name": "Python 3",
   "language": "python",
   "name": "python3"
  },
  "language_info": {
   "codemirror_mode": {
    "name": "ipython",
    "version": 3
   },
   "file_extension": ".py",
   "mimetype": "text/x-python",
   "name": "python",
   "nbconvert_exporter": "python",
   "pygments_lexer": "ipython3",
   "version": "3.8.8"
  }
 },
 "nbformat": 4,
 "nbformat_minor": 5
}

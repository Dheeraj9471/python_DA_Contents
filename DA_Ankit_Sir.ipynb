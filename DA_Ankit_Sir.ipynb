{
 "cells": [
  {
   "cell_type": "code",
   "execution_count": null,
   "id": "d01fe108",
   "metadata": {},
   "outputs": [],
   "source": [
    "\"\"\"1. Write a Python program to multiply all the items in a list.\n",
    "2. Write a Python program to get the largest number from a list.\n",
    "3. Write a Python program to get the smallest number from a list.\n",
    "4. Write a Python program to check a list is empty or not.\n",
    "5. Write a Python function that takes two lists and returns True if they have at least one common member\n",
    "6. Write a Python program to print a specified list after removing the 0th, 4th and 5th elements.\n",
    "7. Write a Python script to concatenate following dictionaries to create a new one.\n",
    "Sample Dictionary :\n",
    "dic1={1:10, 2:20}\n",
    "dic2={3:30, 4:40}\n",
    "dic3={5:50,6:60}\n",
    "Expected Result : {1: 10, 2: 20, 3: 30, 4: 40, 5: 50, 6: 60}\n",
    "\n",
    "8. Write a Python program to create a tuple with different data types.\n",
    "9. Write a Python program to create a tuple with numbers and print one item.\n",
    "10.Write a Python program to convert a tuple to a string.\n",
    "11.Write a Python program to get the 4th element and 4th element from last of a tuple.\n",
    "12.Write a Python program to get the 4th element and 4th element from last of a tuple.\n",
    "13.Write a Python function to sum all the numbers in a list. Go to the editor\n",
    "Sample List : (8, 2, 3, 0, 7)\n",
    "Expected Output : 20\n",
    "14.Write a Python function to multiply all the numbers in a list. Go to the editor\n",
    "sSample List : (8, 2, 3, -1, 7)\n",
    "Expected Output : -336\n",
    "\n",
    "\n",
    "Loop\n",
    "\n",
    "15.Calculate the sum of all numbers from 1 to a given number\n",
    "16.Write a program to print multiplication table of a given number\n",
    "17.Display numbers from a list using loop\n",
    "18.Count the total number of digits in a number\n",
    "\n",
    "Condition\n",
    "19.A company decided to give bonus of 5% to employee if his/her year of service is more than 5 years.\n",
    "Ask user for their salary and year of service and print the net bonus amount.\n",
    "20.Take values of length and breadth of a rectangle from user and check if it is square or not.\n",
    "A school has following rules for grading system:\n",
    "a. Below 25 - F\n",
    "b. 25 to 45 - E\n",
    "c. 45 to 50 - D\n",
    "d. 50 to 60 - C\n",
    "e. 60 to 80 - B\n",
    "f. Above 80 - A\n",
    "Ask user to enter marks and print the corresponding grade.\n",
    "21.Take input of age of 3 people by user and determine oldest and youngest among them.\n",
    "22.A student will not be allowed to sit in exam if his/her attendence is less than 75%.\n",
    "Take following input from user\n",
    "Number of classes held\n",
    "Number of classes attended.\n",
    "And print\n",
    "percentage of class attended\n",
    "Is student is allowed to sit in exam or not.\"\"\""
   ]
  },
  {
   "cell_type": "code",
   "execution_count": 1,
   "id": "46e44ac7",
   "metadata": {},
   "outputs": [
    {
     "name": "stdout",
     "output_type": "stream",
     "text": [
      "24\n"
     ]
    }
   ],
   "source": [
    "#1. Write a Python program to multiply all the items in a list.\n",
    "#Ans:-\n",
    "# list=[2,3,4,5,6]\n",
    "# res=list[0]*list[1]*list[2]\n",
    "# print(res)\n",
    "\n",
    "#  #2nd Method\n",
    "list=[2,3,4]\n",
    "res=1\n",
    "for e in list:\n",
    "    res= res*e   \n",
    "print(res)             "
   ]
  },
  {
   "cell_type": "code",
   "execution_count": null,
   "id": "d09d564d",
   "metadata": {},
   "outputs": [],
   "source": [
    "# #2. Write a Python program to get the largest number from a list.\n",
    "# #Ans:-\n",
    "list=[2,6,4,5]\n",
    "for e in list:\n",
    "    if (e<(e+1)):\n",
    "        print(e+1,\"is grater than\",e)\n",
    "    else:\n",
    "        print(e,\"is less than\",e+1)"
   ]
  },
  {
   "cell_type": "code",
   "execution_count": null,
   "id": "cbf78fda",
   "metadata": {},
   "outputs": [],
   "source": [
    "# #3. Write a Python program to get the smallest number from a list.\n",
    "# #Ans:-\n",
    "list=[2,6,4,5]\n",
    "for e in list:\n",
    "    if (e<(e+1)):\n",
    "        print(e,\"is less than\",e+1)\n",
    "    else:\n",
    "        print(e+1,\"is greater than\",e)"
   ]
  },
  {
   "cell_type": "code",
   "execution_count": null,
   "id": "9f333e26",
   "metadata": {},
   "outputs": [],
   "source": [
    "# #4. Write a Python program to check a list is empty or not.\n",
    "# #Ans:-\n",
    "list=[]\n",
    "\n",
    "if len(list)==0:\n",
    "    print(\"Empty List\")\n",
    "else:\n",
    "    print(\"Not Empty List\")\n",
    "print(a)"
   ]
  },
  {
   "cell_type": "code",
   "execution_count": null,
   "id": "ebd36c6f",
   "metadata": {},
   "outputs": [],
   "source": [
    "#5. Write a Python function that takes two lists and returns True if they have at least one common member\n",
    "def Comp_list(list1,list2):\n",
    "    a = False\n",
    "    for x in list1:\n",
    "        for y in list2:\n",
    "            if y==x:\n",
    "                a=True\n",
    "                return a\n",
    "               \n",
    "            \n",
    "        \n",
    "print(Comp_list([2,3],[5,4]))\n",
    "\n",
    "#2nd method\n",
    "def Comp_list(list1,list2):\n",
    "\n",
    "    for x in list1:\n",
    "        for y in list2:\n",
    "            return y==x\n",
    "    return False\n",
    "               \n",
    "print(Comp_list([2,3],[5,4]))\n",
    "            \n",
    "\n"
   ]
  },
  {
   "cell_type": "code",
   "execution_count": null,
   "id": "0bab32ce",
   "metadata": {},
   "outputs": [],
   "source": [
    "#6. Write a Python program to print a specified list after removing the 0th, 4th and 5th elements.\n",
    "# #Ans:-\n",
    "list=[2,3,4,5,6,7,8,9]\n",
    "list.pop(0)\n",
    "list.pop(4)\n",
    "list.pop(5)\n",
    "\n",
    "print(list)"
   ]
  },
  {
   "cell_type": "code",
   "execution_count": 11,
   "id": "d442ac47",
   "metadata": {},
   "outputs": [
    {
     "name": "stdout",
     "output_type": "stream",
     "text": [
      "{1: 10, 2: 20, 3: 30, 4: 40, 5: 50, 6: 60}\n"
     ]
    }
   ],
   "source": [
    "#7. Write a Python script to concatenate following dictionaries to create a new one.\n",
    "#Sample Dictionary :\n",
    "dic1={1:10, 2:20}\n",
    "dic2={3:30, 4:40}\n",
    "dic3={5:50,6:60}\n",
    "# #Expected Result : {1: 10, 2: 20, 3: 30, 4: 40, 5: 50, 6: 60}\n",
    "\n",
    "dic1.update(dic2)\n",
    "dic1.update(dic3)\n",
    "\n",
    "\n",
    "print(dic1)\n"
   ]
  },
  {
   "cell_type": "code",
   "execution_count": null,
   "id": "e26040db",
   "metadata": {},
   "outputs": [],
   "source": [
    "##8. Write a Python program to create a tuple with different data types.\n",
    "tuple=(23,\"Dheeraj\",34.50, True,[3,4,5])\n",
    "print(tuple)\n",
    "print(type(tuple)) "
   ]
  },
  {
   "cell_type": "code",
   "execution_count": null,
   "id": "e08fcd7c",
   "metadata": {},
   "outputs": [],
   "source": [
    "#9. Write a Python program to create a tuple with numbers and print one item.\n",
    "tuple=(23,\"Dheeraj\",34.50, True,[3,4,5])\n",
    "print(tuple[0])"
   ]
  },
  {
   "cell_type": "code",
   "execution_count": null,
   "id": "4ec5fad8",
   "metadata": {},
   "outputs": [],
   "source": [
    "# #10.Write a Python program to convert a tuple to a string.\n",
    "tuple=(23,\"Dheeraj\",34.50, True,[3,4,5])\n",
    "a=str(tuple)\n",
    "print(a)\n",
    "print(type(a))"
   ]
  },
  {
   "cell_type": "code",
   "execution_count": null,
   "id": "0cdb67b5",
   "metadata": {},
   "outputs": [],
   "source": [
    "# #11.Write a Python program to get the 4th element and 4th element from last of a tuple.\n",
    "tuple=(23, \"Dheeraj\", 34.50,53, True, \"Sita\", \"hello\",75,[3.45,5,8])\n",
    "print(tuple[4])\n",
    "print(tuple[-4])"
   ]
  },
  {
   "cell_type": "code",
   "execution_count": null,
   "id": "8939d6e7",
   "metadata": {},
   "outputs": [],
   "source": [
    "#13.Write a Python function to sum all the numbers in a list. Go to the editor\n",
    "#Sample List : (8, 2, 3, 0, 7)\n",
    "#Expected Output : 20\n",
    "\n",
    "def list2(list1):\n",
    "    res=0\n",
    "    for x in list1:\n",
    "        res=res+x\n",
    "    return res\n",
    "    \n",
    "list1=(8, 2, 3, 0, 7)\n",
    "list2(list1)\n",
    "#print(list2((8, 2, 3, 0, 7)))\n",
    "\n"
   ]
  },
  {
   "cell_type": "code",
   "execution_count": 2,
   "id": "3bceee3c",
   "metadata": {},
   "outputs": [
    {
     "data": {
      "text/plain": [
       "-336"
      ]
     },
     "execution_count": 2,
     "metadata": {},
     "output_type": "execute_result"
    }
   ],
   "source": [
    "# #14.Write a Python function to multiply all the numbers in a list. Go to the editor\n",
    "# #Sample List : (8, 2, 3, -1, 7)\n",
    "# #Expected Output : -336\n",
    "def list2(list1):\n",
    "    res=1\n",
    "    for x in list1:\n",
    "        res=res*x\n",
    "    return res\n",
    "    \n",
    "list1=(8, 2, 3, -1, 7)\n",
    "list2(list1)\n",
    "#print(list2((8, 2, 3, 0, 7)))"
   ]
  },
  {
   "cell_type": "code",
   "execution_count": null,
   "id": "3ab9c8d3",
   "metadata": {},
   "outputs": [],
   "source": [
    "# #15.Calculate the sum of all numbers from 1 to a given number\n",
    "n = int(input(\"Enter the given number: \"))\n",
    "res=1\n",
    "for x in range(n+1):\n",
    "    res=res+x\n",
    "    \n",
    "print(res-1)\n"
   ]
  },
  {
   "cell_type": "code",
   "execution_count": null,
   "id": "82727481",
   "metadata": {},
   "outputs": [],
   "source": [
    "# #16.Write a program to print multiplication table of a given number\n",
    "n=int(input(\"Enter Your Choice Table\"))\n",
    "for x in range (1,11):\n",
    "    res=n*x\n",
    "    print(n,\"X\",x,\"=\",res)\n",
    "    "
   ]
  },
  {
   "cell_type": "code",
   "execution_count": null,
   "id": "dff7a005",
   "metadata": {},
   "outputs": [],
   "source": [
    "#17.Display numbers from a list using loop\n",
    "n= input(\"Emter your choice: \")\n",
    "list=[2,3,4]\n",
    "list.append(n)\n",
    "\n",
    "for x in list:\n",
    "    print(x)"
   ]
  },
  {
   "cell_type": "code",
   "execution_count": 3,
   "id": "5c5b1828",
   "metadata": {},
   "outputs": [
    {
     "name": "stdout",
     "output_type": "stream",
     "text": [
      "6\n",
      "[2, 34, 5, 6, 878, 6]\n"
     ]
    }
   ],
   "source": [
    "#18.Count the total number of digits in a number\n",
    "list=[2,34,5,6,878,6]\n",
    "print(len(list))\n",
    "print(list)"
   ]
  },
  {
   "cell_type": "code",
   "execution_count": null,
   "id": "ada7fba5",
   "metadata": {},
   "outputs": [],
   "source": [
    "#19.A company decided to give bonus of 5% to employee if his/her year of service is more than 5 years.\n",
    "#Ask user for their salary and year of service and print the net bonus amount.\n",
    "n1=int(input(\"Enter Your salary Amount: \"))\n",
    "n2=int(input(\"Enter the Service Years:\"))\n",
    "if n2>=5:\n",
    "    res=(n1*5)/100\n",
    "    print(\"Bonus Amount is:\",res)\n",
    "elif n2<=5:\n",
    "    print(\"Your Are Not Applicable for Bonus\")\n",
    "else:\n",
    "   print(\"Eneter Your Correct salary &  Service Years\")"
   ]
  },
  {
   "cell_type": "code",
   "execution_count": 3,
   "id": "38ebce1e",
   "metadata": {},
   "outputs": [
    {
     "ename": "SyntaxError",
     "evalue": "invalid syntax (<ipython-input-3-8f1040c8cd29>, line 12)",
     "output_type": "error",
     "traceback": [
      "\u001b[1;36m  File \u001b[1;32m\"<ipython-input-3-8f1040c8cd29>\"\u001b[1;36m, line \u001b[1;32m12\u001b[0m\n\u001b[1;33m    if n1 >= 80 || n1 !=101:\u001b[0m\n\u001b[1;37m                 ^\u001b[0m\n\u001b[1;31mSyntaxError\u001b[0m\u001b[1;31m:\u001b[0m invalid syntax\n"
     ]
    }
   ],
   "source": [
    "\"\"\"20.Take values of length and breadth of a rectangle from user and check if it is square or not.\n",
    "A school has following rules for grading system:\n",
    "a. Below 25 - F\n",
    "b. 25 to 45 - E\n",
    "c. 45 to 50 - D\n",
    "d. 50 to 60 - C\n",
    "e. 60 to 80 - B\n",
    "f. Above 80 - A\n",
    "Ask user to enter marks and print the corresponding grade.\"\"\"\n",
    "\n",
    "n1= int(input(\"Enter The Students Marks:\"))\n",
    "if n1 >= 80 and n1 !=101:\n",
    "    print(n1,\"is Include of Grade A\")\n",
    "elif n1 >=60 and n1!=80 :\n",
    "    print(n1,\"is Include of Grade B\" )\n",
    "elif n1 >=50 and n1!=60 :\n",
    "    print(n1,\"is Include of Grade c\" )\n",
    "elif n1 >=45 and n1!=50 :\n",
    "    print(n1,\"is Include of Grade D\" )\n",
    "elif n1 >=25 and n1!=45 :\n",
    "    print(n1,\"is Include of Grade E\" )\n",
    "elif n1<25 and n1!=25:\n",
    "    print(n1,\"is Include of Grade F\" )\n",
    "else:\n",
    "    print(\"Enter Your Marks Under 100\")\n",
    "\n",
    "\n",
    "    \n",
    "    "
   ]
  },
  {
   "cell_type": "code",
   "execution_count": 5,
   "id": "cb747027",
   "metadata": {},
   "outputs": [
    {
     "name": "stdout",
     "output_type": "stream",
     "text": [
      "Enter 1st people  Age 14\n",
      "Enter 2nd people  Age 12\n",
      "Enter 3rd people  Age 13\n",
      "13 is Younger\n"
     ]
    }
   ],
   "source": [
    "#21.Take input of age of 3 people by user and determine oldest and youngest among them.\n",
    "n1=int(input(\"Enter 1st people  Age \"))\n",
    "n2=int(input(\"Enter 2nd people  Age \"))\n",
    "n3=int(input(\"Enter 3rd people  Age \"))\n",
    "if n1>n2:\n",
    "    if n2>n3:\n",
    "        print(n1,\"is Oldest then other\")\n",
    "    else:\n",
    "        print(n3,\"is Younger\")\n",
    "else:\n",
    "    if n2>n3:\n",
    "        print(n2, \"is older then other\")\n",
    "    else:\n",
    "        print(n3,\"is older then other\")\n",
    "        "
   ]
  },
  {
   "cell_type": "code",
   "execution_count": 9,
   "id": "5aec8c11",
   "metadata": {},
   "outputs": [
    {
     "name": "stdout",
     "output_type": "stream",
     "text": [
      "Enter Number of classes held: 80\n",
      "Enter Number of classes attended: 75\n",
      "Your Attendence is: 93.75 %\n",
      "student is allowed to sit in exam with: 93.75 %\n"
     ]
    }
   ],
   "source": [
    "\"\"\"22.A student will not be allowed to sit in exam if his/her attendence is less than 75%.\n",
    "Take following input from user\n",
    "Number of classes held\n",
    "Number of classes attended.\n",
    "And print\n",
    "percentage of class attended\n",
    "Is student is allowed to sit in exam or not.\"\"\"\n",
    "n1=int(input(\"Enter Number of classes held: \"))\n",
    "n2=int(input(\"Enter Number of classes attended: \"))\n",
    "res=(n2*100)/n1\n",
    "print( \"Your Attendence is:\",res,\"%\")\n",
    "if res>75:\n",
    "    print(\"student is allowed to sit in exam with:\",res,\"%\")\n",
    "else:\n",
    "    print(\"student is not allowed to sit in exam with:\",res,\"%\")\n",
    "    "
   ]
  },
  {
   "cell_type": "code",
   "execution_count": null,
   "id": "ca93ba13",
   "metadata": {},
   "outputs": [],
   "source": []
  }
 ],
 "metadata": {
  "kernelspec": {
   "display_name": "Python 3",
   "language": "python",
   "name": "python3"
  },
  "language_info": {
   "codemirror_mode": {
    "name": "ipython",
    "version": 3
   },
   "file_extension": ".py",
   "mimetype": "text/x-python",
   "name": "python",
   "nbconvert_exporter": "python",
   "pygments_lexer": "ipython3",
   "version": "3.8.8"
  }
 },
 "nbformat": 4,
 "nbformat_minor": 5
}
